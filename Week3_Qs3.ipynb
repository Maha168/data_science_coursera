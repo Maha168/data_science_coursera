{
 "cells": [
  {
   "cell_type": "markdown",
   "metadata": {},
   "source": [
    "##### 5.Getting Latitudes and Longitudes from Geocoder"
   ]
  },
  {
   "cell_type": "code",
   "execution_count": 14,
   "metadata": {},
   "outputs": [
    {
     "name": "stdout",
     "output_type": "stream",
     "text": [
      "Stored 'test' (DataFrame)\n"
     ]
    }
   ],
   "source": [
    "import pandas as pd\n",
    "%store -r df3\n",
    "geodata=pd.read_csv('https://cocl.us/Geospatial_data') \n",
    "geodata.rename (columns={\"Postal Code\":\"Postcode\"}, inplace=True)\n",
    "test=pd.merge(df3,geodata,on=\"Postcode\",how=\"inner\")\n",
    "test\n",
    "%store test"
   ]
  },
  {
   "cell_type": "code",
   "execution_count": null,
   "metadata": {},
   "outputs": [],
   "source": []
  }
 ],
 "metadata": {
  "kernelspec": {
   "display_name": "Python 3",
   "language": "python",
   "name": "python3"
  },
  "language_info": {
   "codemirror_mode": {
    "name": "ipython",
    "version": 3
   },
   "file_extension": ".py",
   "mimetype": "text/x-python",
   "name": "python",
   "nbconvert_exporter": "python",
   "pygments_lexer": "ipython3",
   "version": "3.7.1"
  }
 },
 "nbformat": 4,
 "nbformat_minor": 2
}
